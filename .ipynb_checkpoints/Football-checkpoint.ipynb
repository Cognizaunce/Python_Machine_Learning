{
 "cells": [
  {
   "cell_type": "code",
   "execution_count": 96,
   "metadata": {},
   "outputs": [],
   "source": [
    "#1,2\n",
    "import pandas as pd\n",
    "import numpy as np\n",
    "df = pd.read_csv('results.csv').dropna(axis = 0, how = 'any')#implicit"
   ]
  },
  {
   "cell_type": "code",
   "execution_count": 97,
   "metadata": {},
   "outputs": [],
   "source": [
    "#3\n",
    "tups = df.shape\n",
    "tournaments = len(df['tournament'].unique())"
   ]
  },
  {
   "cell_type": "code",
   "execution_count": 98,
   "metadata": {},
   "outputs": [],
   "source": [
    "# 4 how to convert to datetime\n",
    "pd.to_datetime(df.date)\n",
    "df['year'] = pd.DatetimeIndex(df['date']).year\n",
    "matches_2018 = df.loc[df['year'] == 2018].shape[0]"
   ]
  },
  {
   "attachments": {},
   "cell_type": "markdown",
   "metadata": {},
   "source": [
    "### Explanation of the longhand way:"
   ]
  },
  {
   "cell_type": "code",
   "execution_count": 99,
   "metadata": {},
   "outputs": [
    {
     "name": "stdout",
     "output_type": "stream",
     "text": [
      "First Step:\n",
      "       home_score  away_score\n",
      "0               0           0\n",
      "1               4           2\n",
      "2               2           1\n",
      "3               2           2\n",
      "4               3           0\n",
      "...           ...         ...\n",
      "42645           3           1\n",
      "42646           2           1\n",
      "42647           1           0\n",
      "42648           3           0\n",
      "42649           2           0\n",
      "\n",
      "[42650 rows x 2 columns]\n",
      "\n",
      "Second Step:\n",
      "0        False\n",
      "1         True\n",
      "2         True\n",
      "3        False\n",
      "4         True\n",
      "         ...  \n",
      "42645     True\n",
      "42646     True\n",
      "42647     True\n",
      "42648     True\n",
      "42649     True\n",
      "Length: 42650, dtype: bool\n",
      "<class 'pandas.core.series.Series'>\n",
      "\n",
      " Third step: (Equality Holds!)\n",
      "0        False\n",
      "1         True\n",
      "2         True\n",
      "3        False\n",
      "4         True\n",
      "         ...  \n",
      "42645     True\n",
      "42646     True\n",
      "42647     True\n",
      "42648     True\n",
      "42649     True\n",
      "Length: 42650, dtype: bool\n",
      "<class 'type'>\n",
      "\n",
      " explanation intermission between step 3 and 4 (see notes)\n",
      "42650\n",
      "42650\n",
      "Step 4: Filtering!\n",
      "             date  home_team  away_team  home_score  away_score  \\\n",
      "1      1873-03-08    England   Scotland           4           2   \n",
      "2      1874-03-07   Scotland    England           2           1   \n",
      "4      1876-03-04   Scotland    England           3           0   \n",
      "5      1876-03-25   Scotland      Wales           4           0   \n",
      "8      1878-03-02   Scotland    England           7           2   \n",
      "...           ...        ...        ...         ...         ...   \n",
      "42645  2021-09-09   Colombia      Chile           3           1   \n",
      "42646  2021-09-09   Paraguay  Venezuela           2           1   \n",
      "42647  2021-09-09    Uruguay    Ecuador           1           0   \n",
      "42648  2021-09-09  Argentina    Bolivia           3           0   \n",
      "42649  2021-09-09     Brazil       Peru           2           0   \n",
      "\n",
      "                         tournament          city    country  neutral  year  \n",
      "1                          Friendly        London    England    False  1873  \n",
      "2                          Friendly       Glasgow   Scotland    False  1874  \n",
      "4                          Friendly       Glasgow   Scotland    False  1876  \n",
      "5                          Friendly       Glasgow   Scotland    False  1876  \n",
      "8                          Friendly       Glasgow   Scotland    False  1878  \n",
      "...                             ...           ...        ...      ...   ...  \n",
      "42645  FIFA World Cup qualification  Barranquilla   Colombia    False  2021  \n",
      "42646  FIFA World Cup qualification      Asunción   Paraguay    False  2021  \n",
      "42647  FIFA World Cup qualification    Montevideo    Uruguay    False  2021  \n",
      "42648  FIFA World Cup qualification  Buenos Aires  Argentina    False  2021  \n",
      "42649  FIFA World Cup qualification        Recife     Brazil    False  2021  \n",
      "\n",
      "[20739 rows x 10 columns]\n",
      "Step 5: assigning our filtered list\n",
      "             date  home_team  away_team  home_score  away_score  \\\n",
      "1      1873-03-08    England   Scotland           4           2   \n",
      "2      1874-03-07   Scotland    England           2           1   \n",
      "4      1876-03-04   Scotland    England           3           0   \n",
      "5      1876-03-25   Scotland      Wales           4           0   \n",
      "8      1878-03-02   Scotland    England           7           2   \n",
      "...           ...        ...        ...         ...         ...   \n",
      "42645  2021-09-09   Colombia      Chile           3           1   \n",
      "42646  2021-09-09   Paraguay  Venezuela           2           1   \n",
      "42647  2021-09-09    Uruguay    Ecuador           1           0   \n",
      "42648  2021-09-09  Argentina    Bolivia           3           0   \n",
      "42649  2021-09-09     Brazil       Peru           2           0   \n",
      "\n",
      "                         tournament          city    country  neutral  year  \n",
      "1                          Friendly        London    England    False  1873  \n",
      "2                          Friendly       Glasgow   Scotland    False  1874  \n",
      "4                          Friendly       Glasgow   Scotland    False  1876  \n",
      "5                          Friendly       Glasgow   Scotland    False  1876  \n",
      "8                          Friendly       Glasgow   Scotland    False  1878  \n",
      "...                             ...           ...        ...      ...   ...  \n",
      "42645  FIFA World Cup qualification  Barranquilla   Colombia    False  2021  \n",
      "42646  FIFA World Cup qualification      Asunción   Paraguay    False  2021  \n",
      "42647  FIFA World Cup qualification    Montevideo    Uruguay    False  2021  \n",
      "42648  FIFA World Cup qualification  Buenos Aires  Argentina    False  2021  \n",
      "42649  FIFA World Cup qualification        Recife     Brazil    False  2021  \n",
      "\n",
      "[20739 rows x 10 columns]\n"
     ]
    },
    {
     "ename": "TypeError",
     "evalue": "unsupported operand type(s) for +: 'int' and 'str'",
     "output_type": "error",
     "traceback": [
      "\u001b[1;31m---------------------------------------------------------------------------\u001b[0m",
      "\u001b[1;31mTypeError\u001b[0m                                 Traceback (most recent call last)",
      "Cell \u001b[1;32mIn[99], line 43\u001b[0m\n\u001b[0;32m     41\u001b[0m h_wins \u001b[39m=\u001b[39m df[h_wins]\n\u001b[0;32m     42\u001b[0m \u001b[39mprint\u001b[39m(h_wins)\n\u001b[1;32m---> 43\u001b[0m \u001b[39mprint\u001b[39m(\u001b[39mlen\u001b[39;49m(h_wins) \u001b[39m+\u001b[39;49m \u001b[39m'\u001b[39;49m\u001b[39m Notice shorter lenght!\u001b[39;49m\u001b[39m'\u001b[39;49m)\n\u001b[0;32m     45\u001b[0m \u001b[39m#we can now store the lenght of this series, as we only need the number of entries.\u001b[39;00m\n\u001b[0;32m     46\u001b[0m wins \u001b[39m=\u001b[39m \u001b[39mlen\u001b[39m(h_wins)\n",
      "\u001b[1;31mTypeError\u001b[0m: unsupported operand type(s) for +: 'int' and 'str'"
     ]
    }
   ],
   "source": [
    "#5 team statistics (with explanation, enable output scroll please!)\n",
    "print('First Step:')\n",
    "print(df[['home_score', 'away_score']])\n",
    "#what is pandas doing here?\n",
    "# you can look at each column and just look at the specific one(s) you want.\n",
    "# dont forget to nest a list for acessing multiple columns!\n",
    "\n",
    "print('\\nSecond Step:')\n",
    "print(df['home_score']> df['away_score'])\n",
    "print(type(df['home_score']> df['away_score']))\n",
    "# What is pandas doing here? (it is a pandas object after all)\n",
    "# Basically, this is a boolean test.\n",
    "\n",
    "h_wins = df['home_score'] > df['away_score']\n",
    "print('\\n Third step: (Equality Holds!)')\n",
    "print(h_wins)\n",
    "print(type)\n",
    "#What did we do here?\n",
    "# we assigned that information, those boolean, that data... to our variable... and nothing happened!\n",
    "# (same type & size!)\n",
    "\n",
    "print('\\n explanation intermission between step 3 and 4 (see notes)')\n",
    "# Now for the cool bit!\n",
    "# Remember, this is a boolean test\n",
    "# So, Immma show you a way to then slice out just the wins.\n",
    "h_wins = (df['home_score'] > df['away_score']) == True\n",
    "print(len(df))\n",
    "#so the lenght for the complete football df is currently 42650\n",
    "print(len(h_wins))\n",
    "#which is equal to the number for our h_wins rn\n",
    "\n",
    "# remember how took a test of when the home team won?\n",
    "# lets try this now.\n",
    "print('Step 4: Filtering!')\n",
    "print(df[h_wins])\n",
    "#What did pandaws do?\n",
    "# pandas made a new dataframe, and it cut out, ONLY... the matches where the home team won.\n",
    "\n",
    "#so now, we are going to assign this list to an undated instance of h_wins\n",
    "print('Step 5: assigning our filtered list')\n",
    "h_wins = df[h_wins]\n",
    "print(h_wins)\n",
    "print(len(h_wins) + ' Notice shorter lenght!')\n",
    "\n",
    "#we can now store the lenght of this series, as we only need the number of entries.\n",
    "wins = len(h_wins)\n"
   ]
  },
  {
   "attachments": {},
   "cell_type": "markdown",
   "metadata": {},
   "source": [
    "### Now let's use the longhand way for the matches where the home team lost"
   ]
  },
  {
   "cell_type": "code",
   "execution_count": null,
   "metadata": {},
   "outputs": [
    {
     "name": "stdout",
     "output_type": "stream",
     "text": [
      "42650\n",
      "m:  (42650,)\n",
      "n m:  False\n"
     ]
    }
   ],
   "source": [
    "#5 team statistics\n",
    "h_loss = df['home_score'] < df['away_score']\n",
    "#Edit: I know it looks goofy, but it's basically doing the exact same thing\n",
    "# We can now take the number of entries again, but let's not use the len method. lets use something else.\n",
    "\n",
    "loss = h_loss.shape[0]\n",
    "print(loss)\n",
    "\n",
    "# What did pandas do here? nothing new!\n",
    "# the shape method simply returned the same dimension tuple we are used to.\n",
    "# the only difference is that we extracted the first index of the tuple, so we only parsed the x-value\n",
    "# Remember, if h_loss has n row and m columns, then h_loss.shape[0] is n.\n",
    "# We can take different combinations of tuple indices that are in range (remember that tuples are immutable)\n",
    "\n",
    "print('m: ', h_loss.shape)\n",
    "print('remember that singleton tuples require a trailing coma. (otherwise, you\\' be casting.)')\n",
    "print(\"do not ask me about empty tuples. They are weird.\")\n",
    "\n",
    "# Note:Even though tuples are defined using parentheses, \n",
    "# you still index and slice tuples using square brackets, \n",
    "# just as for strings and lists."
   ]
  },
  {
   "cell_type": "code",
   "execution_count": null,
   "metadata": {},
   "outputs": [
    {
     "data": {
      "image/png": "[encoded data removed]",
      "text/plain": [
       "<Figure size 640x480 with 1 Axes>"
      ]
     },
     "metadata": {},
     "output_type": "display_data"
    }
   ],
   "source": [
    "# 6 plotting\n",
    "import matplotlib.pyplot as plt\n",
    "games = [wins, loss, draw]\n",
    "labels =['won', 'lost', 'draw']\n",
    "plt.pie(games, labels = labels,  autopct='%1.2f%%')\n",
    "plt.show()"
   ]
  },
  {
   "cell_type": "code",
   "execution_count": null,
   "metadata": {},
   "outputs": [],
   "source": [
    "#7\n",
    "n1 = df[['home_team']].values\n",
    "n2 = df[['away_team']].values\n",
    "teams = np.append(n1, n2)\n",
    "teams = np.unique(teams)"
   ]
  }
 ],
 "metadata": {
  "kernelspec": {
   "display_name": "base",
   "language": "python",
   "name": "python3"
  },
  "language_info": {
   "codemirror_mode": {
    "name": "ipython",
    "version": 3
   },
   "file_extension": ".py",
   "mimetype": "text/x-python",
   "name": "python",
   "nbconvert_exporter": "python",
   "pygments_lexer": "ipython3",
   "version": "3.10.9"
  }
 },
 "nbformat": 4,
 "nbformat_minor": 2
}

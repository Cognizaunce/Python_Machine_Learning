{
 "cells": [
  {
   "cell_type": "code",
   "execution_count": 5,
   "id": "6b06632b",
   "metadata": {},
   "outputs": [
    {
     "name": "stdout",
     "output_type": "stream",
     "text": [
      "Requirement already satisfied: numpy in c:\\users\\julian\\anaconda3\\lib\\site-packages (1.23.5)\n"
     ]
    }
   ],
   "source": [
    "!pip install numpy"
   ]
  },
  {
   "cell_type": "code",
   "execution_count": 8,
   "id": "93f4f0b1",
   "metadata": {},
   "outputs": [
    {
     "name": "stdout",
     "output_type": "stream",
     "text": [
      "after this is the end of a cell\n"
     ]
    }
   ],
   "source": [
    "print(\"after this is the end of a cell\")"
   ]
  },
  {
   "cell_type": "markdown",
   "id": "7fe46165",
   "metadata": {},
   "source": [
    "# Python Programing"
   ]
  },
  {
   "cell_type": "markdown",
   "id": "221f419e",
   "metadata": {},
   "source": [
    "## keep the space"
   ]
  },
  {
   "cell_type": "code",
   "execution_count": 3,
   "id": "52043047",
   "metadata": {
    "scrolled": true
   },
   "outputs": [
    {
     "name": "stdout",
     "output_type": "stream",
     "text": [
      "10\n"
     ]
    }
   ],
   "source": [
    "print(3+3+4)\n",
    "\n"
   ]
  },
  {
   "cell_type": "code",
   "execution_count": 2,
   "id": "edb00cc2",
   "metadata": {},
   "outputs": [
    {
     "name": "stdout",
     "output_type": "stream",
     "text": [
      "line and cell numbers correlate\n"
     ]
    }
   ],
   "source": [
    "print(\"line and cell numbers correlate\")"
   ]
  }
 ],
 "metadata": {
  "kernelspec": {
   "display_name": "Python 3 (ipykernel)",
   "language": "python",
   "name": "python3"
  },
  "language_info": {
   "codemirror_mode": {
    "name": "ipython",
    "version": 3
   },
   "file_extension": ".py",
   "mimetype": "text/x-python",
   "name": "python",
   "nbconvert_exporter": "python",
   "pygments_lexer": "ipython3",
   "version": "3.10.9"
  }
 },
 "nbformat": 4,
 "nbformat_minor": 5
}

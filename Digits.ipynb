{
 "cells": [
  {
   "cell_type": "code",
   "execution_count": 7,
   "metadata": {},
   "outputs": [],
   "source": [
    "#1 Loading data\n",
    "from keras.datasets import mnist\n",
    "(x_train, y_train), (x_test, y_test) = mnist.load_data()"
   ]
  },
  {
   "cell_type": "code",
   "execution_count": 8,
   "metadata": {},
   "outputs": [
    {
     "data": {
      "text/plain": [
       "<matplotlib.image.AxesImage at 0x216cabdb490>"
      ]
     },
     "execution_count": 8,
     "metadata": {},
     "output_type": "execute_result"
    },
    {
     "data": {
      "image/png": "[encoded data removed]",
      "text/plain": [
       "<Figure size 640x480 with 1 Axes>"
      ]
     },
     "metadata": {},
     "output_type": "display_data"
    }
   ],
   "source": [
    "#2 Visualizing the Data\n",
    "import matplotlib.pyplot as plt\n",
    "%matplotlib inline\n",
    "plt.imshow(x_train[0], cmap='gray')"
   ]
  },
  {
   "attachments": {},
   "cell_type": "markdown",
   "metadata": {},
   "source": [
    "The Keras library expects the input to the convolutional neural network (CNN) to have four (4) dimensions, so you will add the fourth dimension as 1 using the reshape function.\n",
    "The first three (3) dimensions represent the number of samples, as well as the width and length of each sample, respectively.\n",
    "It is also better to normalize the input to be from 0 to 1, which is simple in this case. Grayscale images of MNIST contains pixels, and each pixel has a grayscale value from 0 to 255.\n",
    "You can divide the input by 255 (maximum value for grayscale colours) to normalize it (i.e., make the values between 0 and 1)."
   ]
  },
  {
   "cell_type": "code",
   "execution_count": 9,
   "metadata": {},
   "outputs": [],
   "source": [
    "#3 Prepare data for CNN\n",
    "x_train = x_train.reshape(60000, 28, 28, 1)/255\n",
    "# Reshape logic (# of samples, image width, image height, 1)\n",
    "# We add the extra dimension because Keras requires four for CNN operations, hence the one\n",
    "x_test = x_test.reshape(10000, 28, 28, 1)/255\n",
    "# The normalization of images in CNNs is a crucial step to train it effectively\n",
    "#The grayscale values are encoded to a float of [0, 1].\n",
    "# ie. 255/255 --> 1 "
   ]
  },
  {
   "attachments": {},
   "cell_type": "markdown",
   "metadata": {},
   "source": [
    "#4 Set up CNN"
   ]
  },
  {
   "cell_type": "code",
   "execution_count": 10,
   "metadata": {},
   "outputs": [
    {
     "name": "stdout",
     "output_type": "stream",
     "text": [
      "Model: \"sequential_1\"\n",
      "_________________________________________________________________\n",
      " Layer (type)                Output Shape              Param #   \n",
      "=================================================================\n",
      " conv2d_1 (Conv2D)           (None, 26, 26, 28)        280       \n",
      "                                                                 \n",
      " max_pooling2d_1 (MaxPooling  (None, 13, 13, 28)       0         \n",
      " 2D)                                                             \n",
      "                                                                 \n",
      " flatten_1 (Flatten)         (None, 4732)              0         \n",
      "                                                                 \n",
      " dense_2 (Dense)             (None, 128)               605824    \n",
      "                                                                 \n",
      " dense_3 (Dense)             (None, 10)                1290      \n",
      "                                                                 \n",
      "=================================================================\n",
      "Total params: 607,394\n",
      "Trainable params: 607,394\n",
      "Non-trainable params: 0\n",
      "_________________________________________________________________\n"
     ]
    }
   ],
   "source": [
    "from keras.models import Sequential\n",
    "model = Sequential()#for adding layers together\n",
    "\n",
    "#I) Add an \"INPUT\" Convolutional Layer\n",
    "from keras.layers import Conv2D\n",
    "model.add(Conv2D(filters= 28, kernel_size=(3,3), input_shape=(28,28,1), activation='relu'))\n",
    "#Syntax #of outpits, windowsize(x,y), use input shape from reshape\n",
    "\n",
    "#II) Add a Pooling Layer\n",
    "from keras.layers import MaxPooling2D\n",
    "model.add(MaxPooling2D(pool_size=(2,2)))\n",
    "\n",
    "##IIb) Add a flattening layer\n",
    "from keras.layers import Flatten\n",
    "model.add(Flatten())\n",
    "\n",
    "#III) Add a Fully Connected Layer\n",
    "from keras.layers import Dense\n",
    "model.add(Dense(units=128, activation='relu'))\n",
    "#note how a fully connected layer is the same as a traditional ANN layer\n",
    "\n",
    "#IV) Add an \"OUTPUT\" Fully Connected Layer\n",
    "model.add(Dense(units=10, activation='softmax'))\n",
    "\n",
    "model.summary()"
   ]
  },
  {
   "cell_type": "code",
   "execution_count": 11,
   "metadata": {},
   "outputs": [],
   "source": [
    "#5 Configuring model for training\n",
    "model.compile(optimizer = 'adam', loss = 'sparse_categorical_crossentropy', metrics = ['accuracy'])\n",
    "\n",
    "##actually running the model, for the training\n",
    "#model.fit(...)\n",
    "## running the model to generate predictions for input samples... PERFORMS THE TRAINING\n",
    "#model.predict() ----> use after training\n",
    "##Running the model to get loss and whatever metrics were specificied in the compile command\n",
    "# model.evaluate(input to be predicted, target value)"
   ]
  },
  {
   "cell_type": "code",
   "execution_count": 12,
   "metadata": {},
   "outputs": [
    {
     "name": "stdout",
     "output_type": "stream",
     "text": [
      "Epoch 1/100\n",
      "1875/1875 [==============================] - 15s 8ms/step - loss: 0.1588 - accuracy: 0.9531\n",
      "Epoch 2/100\n",
      "1875/1875 [==============================] - 15s 8ms/step - loss: 0.0546 - accuracy: 0.9835\n",
      "Epoch 3/100\n",
      "1875/1875 [==============================] - 15s 8ms/step - loss: 0.0367 - accuracy: 0.9885\n",
      "Epoch 4/100\n",
      "1875/1875 [==============================] - 15s 8ms/step - loss: 0.0236 - accuracy: 0.9926\n",
      "Epoch 5/100\n",
      "1875/1875 [==============================] - 16s 9ms/step - loss: 0.0163 - accuracy: 0.9949\n",
      "Epoch 6/100\n",
      "1875/1875 [==============================] - 16s 8ms/step - loss: 0.0114 - accuracy: 0.9960\n",
      "Epoch 7/100\n",
      "1875/1875 [==============================] - 15s 8ms/step - loss: 0.0085 - accuracy: 0.9970\n",
      "Epoch 8/100\n",
      "1875/1875 [==============================] - 16s 9ms/step - loss: 0.0073 - accuracy: 0.9977\n",
      "Epoch 9/100\n",
      "1875/1875 [==============================] - 16s 8ms/step - loss: 0.0049 - accuracy: 0.9984\n",
      "Epoch 10/100\n",
      "1875/1875 [==============================] - 16s 9ms/step - loss: 0.0041 - accuracy: 0.9986\n",
      "Epoch 11/100\n",
      "1875/1875 [==============================] - 16s 9ms/step - loss: 0.0040 - accuracy: 0.9987\n",
      "Epoch 12/100\n",
      "1875/1875 [==============================] - 17s 9ms/step - loss: 0.0046 - accuracy: 0.9984\n",
      "Epoch 13/100\n",
      "1875/1875 [==============================] - 16s 9ms/step - loss: 0.0023 - accuracy: 0.9992\n",
      "Epoch 14/100\n",
      "1875/1875 [==============================] - 16s 8ms/step - loss: 0.0024 - accuracy: 0.9992\n",
      "Epoch 15/100\n",
      "1875/1875 [==============================] - 18s 9ms/step - loss: 0.0033 - accuracy: 0.9988\n",
      "Epoch 16/100\n",
      "1875/1875 [==============================] - 18s 10ms/step - loss: 0.0017 - accuracy: 0.9996\n",
      "Epoch 17/100\n",
      "1875/1875 [==============================] - 18s 10ms/step - loss: 0.0039 - accuracy: 0.9988\n",
      "Epoch 18/100\n",
      "1875/1875 [==============================] - 16s 9ms/step - loss: 0.0011 - accuracy: 0.9998\n",
      "Epoch 19/100\n",
      "1875/1875 [==============================] - 18s 9ms/step - loss: 0.0027 - accuracy: 0.9990\n",
      "Epoch 20/100\n",
      "1875/1875 [==============================] - 16s 9ms/step - loss: 0.0017 - accuracy: 0.9994\n",
      "Epoch 21/100\n",
      "1875/1875 [==============================] - 16s 8ms/step - loss: 0.0030 - accuracy: 0.9992\n",
      "Epoch 22/100\n",
      "1875/1875 [==============================] - 15s 8ms/step - loss: 0.0015 - accuracy: 0.9995\n",
      "Epoch 23/100\n",
      "1875/1875 [==============================] - 15s 8ms/step - loss: 0.0021 - accuracy: 0.9994\n",
      "Epoch 24/100\n",
      "1875/1875 [==============================] - 16s 8ms/step - loss: 2.1049e-04 - accuracy: 1.0000\n",
      "Epoch 25/100\n",
      "1875/1875 [==============================] - 16s 8ms/step - loss: 1.5052e-05 - accuracy: 1.0000\n",
      "Epoch 26/100\n",
      "1875/1875 [==============================] - 16s 8ms/step - loss: 3.3161e-06 - accuracy: 1.0000\n",
      "Epoch 27/100\n",
      "1875/1875 [==============================] - 16s 8ms/step - loss: 1.6598e-06 - accuracy: 1.0000\n",
      "Epoch 28/100\n",
      "1875/1875 [==============================] - 16s 8ms/step - loss: 7.8703e-07 - accuracy: 1.0000\n",
      "Epoch 29/100\n",
      "1875/1875 [==============================] - 15s 8ms/step - loss: 3.7132e-07 - accuracy: 1.0000\n",
      "Epoch 30/100\n",
      "1875/1875 [==============================] - 15s 8ms/step - loss: 1.5861e-07 - accuracy: 1.0000\n",
      "Epoch 31/100\n",
      "1875/1875 [==============================] - 15s 8ms/step - loss: 7.8139e-08 - accuracy: 1.0000\n",
      "Epoch 32/100\n",
      "1875/1875 [==============================] - 15s 8ms/step - loss: 0.0026 - accuracy: 0.9994\n",
      "Epoch 33/100\n",
      "1875/1875 [==============================] - 15s 8ms/step - loss: 0.0019 - accuracy: 0.9994\n",
      "Epoch 34/100\n",
      "1875/1875 [==============================] - 15s 8ms/step - loss: 0.0013 - accuracy: 0.9995\n",
      "Epoch 35/100\n",
      "1875/1875 [==============================] - 15s 8ms/step - loss: 0.0013 - accuracy: 0.9996\n",
      "Epoch 36/100\n",
      "1875/1875 [==============================] - 15s 8ms/step - loss: 0.0028 - accuracy: 0.9991\n",
      "Epoch 37/100\n",
      "1875/1875 [==============================] - 15s 8ms/step - loss: 0.0013 - accuracy: 0.9996\n",
      "Epoch 38/100\n",
      "1875/1875 [==============================] - 15s 8ms/step - loss: 6.3217e-05 - accuracy: 1.0000\n",
      "Epoch 39/100\n",
      "1875/1875 [==============================] - 15s 8ms/step - loss: 6.7636e-06 - accuracy: 1.0000\n",
      "Epoch 40/100\n",
      "1875/1875 [==============================] - 16s 9ms/step - loss: 1.6177e-06 - accuracy: 1.0000\n",
      "Epoch 41/100\n",
      "1875/1875 [==============================] - 16s 9ms/step - loss: 6.0493e-07 - accuracy: 1.0000\n",
      "Epoch 42/100\n",
      "1875/1875 [==============================] - 16s 9ms/step - loss: 3.3218e-07 - accuracy: 1.0000\n",
      "Epoch 43/100\n",
      "1875/1875 [==============================] - 16s 9ms/step - loss: 1.7382e-07 - accuracy: 1.0000\n",
      "Epoch 44/100\n",
      "1875/1875 [==============================] - 16s 9ms/step - loss: 8.3384e-08 - accuracy: 1.0000\n",
      "Epoch 45/100\n",
      "1875/1875 [==============================] - 17s 9ms/step - loss: 4.0698e-08 - accuracy: 1.0000\n",
      "Epoch 46/100\n",
      "1875/1875 [==============================] - 16s 9ms/step - loss: 2.1325e-08 - accuracy: 1.0000\n",
      "Epoch 47/100\n",
      "1875/1875 [==============================] - 16s 9ms/step - loss: 1.1520e-08 - accuracy: 1.0000\n",
      "Epoch 48/100\n",
      "1875/1875 [==============================] - 15s 8ms/step - loss: 0.0033 - accuracy: 0.9991\n",
      "Epoch 49/100\n",
      "1875/1875 [==============================] - 15s 8ms/step - loss: 0.0018 - accuracy: 0.9996\n",
      "Epoch 50/100\n",
      "1875/1875 [==============================] - 16s 8ms/step - loss: 5.5711e-04 - accuracy: 0.9999\n",
      "Epoch 51/100\n",
      "1875/1875 [==============================] - 15s 8ms/step - loss: 0.0014 - accuracy: 0.9995\n",
      "Epoch 52/100\n",
      "1875/1875 [==============================] - 15s 8ms/step - loss: 0.0012 - accuracy: 0.9997\n",
      "Epoch 53/100\n",
      "1875/1875 [==============================] - 15s 8ms/step - loss: 0.0026 - accuracy: 0.9994\n",
      "Epoch 54/100\n",
      "1875/1875 [==============================] - 16s 8ms/step - loss: 4.0544e-04 - accuracy: 0.9998\n",
      "Epoch 55/100\n",
      "1875/1875 [==============================] - 16s 9ms/step - loss: 0.0017 - accuracy: 0.9995\n",
      "Epoch 56/100\n",
      "1875/1875 [==============================] - 16s 9ms/step - loss: 9.2937e-04 - accuracy: 0.9998\n",
      "Epoch 57/100\n",
      "1875/1875 [==============================] - 15s 8ms/step - loss: 0.0019 - accuracy: 0.9994\n",
      "Epoch 58/100\n",
      "1875/1875 [==============================] - 15s 8ms/step - loss: 9.0581e-04 - accuracy: 0.9997\n",
      "Epoch 59/100\n",
      "1875/1875 [==============================] - 15s 8ms/step - loss: 8.7826e-04 - accuracy: 0.9997\n",
      "Epoch 60/100\n",
      "1875/1875 [==============================] - 15s 8ms/step - loss: 0.0014 - accuracy: 0.9995\n",
      "Epoch 61/100\n",
      "1875/1875 [==============================] - 14s 8ms/step - loss: 0.0012 - accuracy: 0.9997\n",
      "Epoch 62/100\n",
      "1875/1875 [==============================] - 15s 8ms/step - loss: 9.1579e-04 - accuracy: 0.9997\n",
      "Epoch 63/100\n",
      "1875/1875 [==============================] - 15s 8ms/step - loss: 0.0011 - accuracy: 0.9997\n",
      "Epoch 64/100\n",
      "1875/1875 [==============================] - 16s 8ms/step - loss: 0.0016 - accuracy: 0.9996\n",
      "Epoch 65/100\n",
      "1875/1875 [==============================] - 15s 8ms/step - loss: 5.7712e-04 - accuracy: 0.9999\n",
      "Epoch 66/100\n",
      "1875/1875 [==============================] - 15s 8ms/step - loss: 0.0014 - accuracy: 0.9997\n",
      "Epoch 67/100\n",
      "1875/1875 [==============================] - 15s 8ms/step - loss: 5.9028e-05 - accuracy: 1.0000\n",
      "Epoch 68/100\n",
      "1875/1875 [==============================] - 15s 8ms/step - loss: 0.0023 - accuracy: 0.9995\n",
      "Epoch 69/100\n",
      "1875/1875 [==============================] - 15s 8ms/step - loss: 8.4333e-04 - accuracy: 0.9997\n",
      "Epoch 70/100\n",
      "1875/1875 [==============================] - 15s 8ms/step - loss: 1.5356e-04 - accuracy: 1.0000\n",
      "Epoch 71/100\n",
      "1875/1875 [==============================] - 15s 8ms/step - loss: 9.9784e-04 - accuracy: 0.9998\n",
      "Epoch 72/100\n",
      "1875/1875 [==============================] - 15s 8ms/step - loss: 0.0014 - accuracy: 0.9995\n",
      "Epoch 73/100\n",
      "1875/1875 [==============================] - 15s 8ms/step - loss: 3.9951e-04 - accuracy: 0.9999\n",
      "Epoch 74/100\n",
      "1875/1875 [==============================] - 15s 8ms/step - loss: 0.0012 - accuracy: 0.9996\n",
      "Epoch 75/100\n",
      "1875/1875 [==============================] - 15s 8ms/step - loss: 7.5450e-04 - accuracy: 0.9998\n",
      "Epoch 76/100\n",
      "1875/1875 [==============================] - 15s 8ms/step - loss: 7.0439e-04 - accuracy: 0.9998\n",
      "Epoch 77/100\n",
      "1875/1875 [==============================] - 15s 8ms/step - loss: 0.0012 - accuracy: 0.9997\n",
      "Epoch 78/100\n",
      "1875/1875 [==============================] - 15s 8ms/step - loss: 0.0014 - accuracy: 0.9996\n",
      "Epoch 79/100\n",
      "1875/1875 [==============================] - 15s 8ms/step - loss: 1.7752e-05 - accuracy: 1.0000\n",
      "Epoch 80/100\n",
      "1875/1875 [==============================] - 17s 9ms/step - loss: 4.9565e-07 - accuracy: 1.0000\n",
      "Epoch 81/100\n",
      "1875/1875 [==============================] - 19s 10ms/step - loss: 2.3854e-07 - accuracy: 1.0000\n",
      "Epoch 82/100\n",
      "1875/1875 [==============================] - 18s 10ms/step - loss: 1.4120e-07 - accuracy: 1.0000\n",
      "Epoch 83/100\n",
      "1875/1875 [==============================] - 17s 9ms/step - loss: 7.9594e-08 - accuracy: 1.0000\n",
      "Epoch 84/100\n",
      "1875/1875 [==============================] - 16s 9ms/step - loss: 4.3795e-08 - accuracy: 1.0000\n",
      "Epoch 85/100\n",
      "1875/1875 [==============================] - 15s 8ms/step - loss: 2.4195e-08 - accuracy: 1.0000\n",
      "Epoch 86/100\n",
      "1875/1875 [==============================] - 15s 8ms/step - loss: 1.2819e-08 - accuracy: 1.0000\n",
      "Epoch 87/100\n",
      "1875/1875 [==============================] - 15s 8ms/step - loss: 6.9896e-09 - accuracy: 1.0000\n",
      "Epoch 88/100\n",
      "1875/1875 [==============================] - 15s 8ms/step - loss: 3.8107e-09 - accuracy: 1.0000\n",
      "Epoch 89/100\n",
      "1875/1875 [==============================] - 15s 8ms/step - loss: 2.0703e-09 - accuracy: 1.0000\n",
      "Epoch 90/100\n",
      "1875/1875 [==============================] - 15s 8ms/step - loss: 1.1285e-09 - accuracy: 1.0000\n",
      "Epoch 91/100\n",
      "1875/1875 [==============================] - 15s 8ms/step - loss: 7.0532e-10 - accuracy: 1.0000\n",
      "Epoch 92/100\n",
      "1875/1875 [==============================] - 15s 8ms/step - loss: 3.9339e-10 - accuracy: 1.0000\n",
      "Epoch 93/100\n",
      "1875/1875 [==============================] - 15s 8ms/step - loss: 2.9206e-10 - accuracy: 1.0000\n",
      "Epoch 94/100\n",
      "1875/1875 [==============================] - 15s 8ms/step - loss: 1.7683e-10 - accuracy: 1.0000\n",
      "Epoch 95/100\n",
      "1875/1875 [==============================] - 15s 8ms/step - loss: 1.4901e-10 - accuracy: 1.0000\n",
      "Epoch 96/100\n",
      "1875/1875 [==============================] - 15s 8ms/step - loss: 1.2120e-10 - accuracy: 1.0000\n",
      "Epoch 97/100\n",
      "1875/1875 [==============================] - 15s 8ms/step - loss: 1.0331e-10 - accuracy: 1.0000\n",
      "Epoch 98/100\n",
      "1875/1875 [==============================] - 15s 8ms/step - loss: 7.7486e-11 - accuracy: 1.0000\n",
      "Epoch 99/100\n",
      "1875/1875 [==============================] - 15s 8ms/step - loss: 7.7486e-11 - accuracy: 1.0000\n",
      "Epoch 100/100\n",
      "1875/1875 [==============================] - 15s 8ms/step - loss: 6.5565e-11 - accuracy: 1.0000\n"
     ]
    },
    {
     "data": {
      "text/plain": [
       "<keras.callbacks.History at 0x216f37b8410>"
      ]
     },
     "execution_count": 12,
     "metadata": {},
     "output_type": "execute_result"
    }
   ],
   "source": [
    "model.fit(x_train, y_train, epochs=100)#CNNs should no have batfches"
   ]
  },
  {
   "cell_type": "code",
   "execution_count": 13,
   "metadata": {},
   "outputs": [
    {
     "name": "stdout",
     "output_type": "stream",
     "text": [
      "313/313 [==============================] - 1s 2ms/step - loss: 0.1447 - accuracy: 0.9888\n",
      "loss:  0.1447279453277588\n",
      "accuracy:  0.9887999892234802\n"
     ]
    }
   ],
   "source": [
    "loss, accuracy = model.evaluate(x_test, y_test)\n",
    "print(\"loss: \", loss)\n",
    "print(\"accuracy: \", accuracy)"
   ]
  },
  {
   "cell_type": "code",
   "execution_count": null,
   "metadata": {},
   "outputs": [],
   "source": []
  }
 ],
 "metadata": {
  "kernelspec": {
   "display_name": "sklearn-env",
   "language": "python",
   "name": "python3"
  },
  "language_info": {
   "codemirror_mode": {
    "name": "ipython",
    "version": 3
   },
   "file_extension": ".py",
   "mimetype": "text/x-python",
   "name": "python",
   "nbconvert_exporter": "python",
   "pygments_lexer": "ipython3",
   "version": "3.11.4"
  },
  "orig_nbformat": 4
 },
 "nbformat": 4,
 "nbformat_minor": 2
}
